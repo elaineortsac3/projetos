{
  "nbformat": 4,
  "nbformat_minor": 0,
  "metadata": {
    "colab": {
      "provenance": [],
      "authorship_tag": "ABX9TyMTuvQH3/kyAA+OA0e7iEKs",
      "include_colab_link": true
    },
    "kernelspec": {
      "name": "python3",
      "display_name": "Python 3"
    },
    "language_info": {
      "name": "python"
    }
  },
  "cells": [
    {
      "cell_type": "markdown",
      "metadata": {
        "id": "view-in-github",
        "colab_type": "text"
      },
      "source": [
        "<a href=\"https://colab.research.google.com/github/elaineortsac3/projetos/blob/master/Exercicio_Fundamento_Analise_de_Dados_Elaine.ipynb\" target=\"_parent\"><img src=\"https://colab.research.google.com/assets/colab-badge.svg\" alt=\"Open In Colab\"/></a>"
      ]
    },
    {
      "cell_type": "markdown",
      "source": [
        "**Exercícios Fundamentos de Análise de Dados**\n",
        "\n",
        "- Elaine Santos de Castro\n",
        "- elaineortsac3@gmail.com\n",
        "- ENIAC"
      ],
      "metadata": {
        "id": "IceO7oBcqjFR"
      }
    },
    {
      "cell_type": "markdown",
      "source": [
        "1. Explique com suas palavras a diferença entre uma métrica e um KPI.\n",
        "R: As métricas são criadas para medir o desempenho de alguma coisa, para entender o que está acontecendo.\n",
        "Já o KPI é criado para demonstrar se uma meta pode ser alcançada, ela pode ser comparada. O KPI é específico, mensurável, alcançavel, relevante e com prazo.\n",
        "\n",
        "2. Dê 3 exemplos de métricas que podem ser usadas em uma loja online.\n",
        "R: Quantidade de clientes, receita de vendas online, taxa de cliques.\n",
        "\n",
        "3. Escolha uma métrica da questão anterior e transforme-a em um KPl.\n",
        "R: Crescer a receita de vendas. KPI: Atingir R$ 150.000 em receita de vendas no próximo mês.\n",
        "\n",
        "4. Por que nem toda métrica é um KPI?\n",
        "R: Uma métrica é apenas um dado quantitativo, dão um valor, um número, mas não dizem se algo é bom ou ruim. O KPI é elaborado de forma que possamos medir o desempenho.\n",
        "\n",
        "5. Crie um KPI para um projeto escolar ou pessoal.\n",
        "R: KPI: quero perder 5 quilos, fazer academia 3 vezes na semana durante 3 meses.\n",
        "\n",
        "6. Explique a diferença entre outlier e ruído.\n",
        "R: Um outlier é um dado que fica muito distante do restante dos dados, é um item raro ou um erro. Já o ruido é uma variação dos dados que não é possível explicar, pequenos erros ou informações relevantes.\n",
        "\n",
        "7. Identifique possíveis padrões em uma série de vendas mensais que cresce no fim de cada ano.\n",
        "R: Um dos motivos para o crescimento, pode ser a sazonalidade, que é influenciada por feriados de final de ano por exemplo. Um padrão também pode ser a tendência, que é uma direção, que mostra que as vendas estão crescendo.\n",
        "\n",
        "8. Se em um dataset de idade de clientes aparece o valor 150, isso seria outlier ou ruído? Justifique.\n",
        "R: Provavelmente seria um ruído, porque para os seres humanos é uma idade elevada e fora da realidade.\n",
        "\n",
        "9. Por que a identificação de padrões é importante na análise de dados?\n",
        "R: É muito importante porque transforma dados brutos em informação útil para análise, para entender o significado e como se comportam.\n",
        "\n",
        "10. Calcule a média de vendas de uma loja nos últimos 5 meses: [120, 150, 100, 200, 130].\n",
        "R: Calculei no excel. A média das vendas da loja é 140\n",
        "\n",
        "11. Qual é a mediana do conjunto: [10, 20, 30, 40, 50, 60, 70]?\n",
        "R: Calculado no excel. A mediana do conjunto é 40\n",
        "\n",
        "12. Explique a utilidade do desvio padrão em uma análise de dados.\n",
        "R: O desvio padrão mostra o quanto os dados estão espalhados em relação à média, então eles mostram se os dados são consistentes e uniformes. Quando ele está baixo significa que os pontos estão próximos dá média e quando estão altos significa que os pontos de dados estão muito espalhados, deixando os dados menos previsiveis. Então é util para entender a variação e confiança no conjunto de dados.\n",
        "\n",
        "13. Qual gráfico é mais adequado para mostrar a participação percentual de categorias em um total?\n",
        "R: Geralmente é indicado o gráfico de pizza, mas pode ser arriscado utilizar ele com muitos dados, seria ideal com até 5 categorias, mais do que isso pode camuflar dados e informações importantes."
      ],
      "metadata": {
        "id": "Qv-K5N-TrSGB"
      }
    },
    {
      "cell_type": "code",
      "execution_count": null,
      "metadata": {
        "id": "rlq5gzdJqc6i"
      },
      "outputs": [],
      "source": []
    }
  ]
}