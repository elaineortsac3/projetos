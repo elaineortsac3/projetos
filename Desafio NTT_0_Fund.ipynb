{
 "cells": [
  {
   "cell_type": "markdown",
   "metadata": {},
   "source": [
    "# Desafio 0 - Aula Fundamentos\n",
    "\n",
    "### Programa Bancário:\n",
    "    \n",
    "- Aluna: Elaine Santos de Castro"
   ]
  },
  {
   "cell_type": "code",
   "execution_count": 8,
   "metadata": {},
   "outputs": [
    {
     "ename": "TypeError",
     "evalue": "unsupported operand type(s) for +=: 'int' and 'str'",
     "output_type": "error",
     "traceback": [
      "\u001b[1;31m---------------------------------------------------------------------------\u001b[0m",
      "\u001b[1;31mTypeError\u001b[0m                                 Traceback (most recent call last)",
      "Cell \u001b[1;32mIn[8], line 25\u001b[0m\n\u001b[0;32m     23\u001b[0m \u001b[38;5;28;01mif\u001b[39;00m valor \u001b[38;5;241m>\u001b[39m \u001b[38;5;241m0\u001b[39m:\n\u001b[0;32m     24\u001b[0m     saldo \u001b[38;5;241m+\u001b[39m\u001b[38;5;241m=\u001b[39m valor\n\u001b[1;32m---> 25\u001b[0m     \u001b[43mextrato\u001b[49m\u001b[43m \u001b[49m\u001b[38;5;241;43m+\u001b[39;49m\u001b[38;5;241;43m=\u001b[39;49m\u001b[43m \u001b[49m\u001b[38;5;124;43mf\u001b[39;49m\u001b[38;5;124;43m'\u001b[39;49m\u001b[38;5;124;43mDepósito: R$ \u001b[39;49m\u001b[38;5;132;43;01m{\u001b[39;49;00m\u001b[43mvalor\u001b[49m\u001b[38;5;132;43;01m:\u001b[39;49;00m\u001b[38;5;124;43m.2f\u001b[39;49m\u001b[38;5;132;43;01m}\u001b[39;49;00m\u001b[38;5;130;43;01m\\n\u001b[39;49;00m\u001b[38;5;124;43m'\u001b[39;49m\n\u001b[0;32m     27\u001b[0m \u001b[38;5;28;01melse\u001b[39;00m:\n\u001b[0;32m     28\u001b[0m     \u001b[38;5;28mprint\u001b[39m(\u001b[38;5;124m'\u001b[39m\u001b[38;5;124mOperação falhou! O valor informado é inválido.\u001b[39m\u001b[38;5;124m'\u001b[39m)\n",
      "\u001b[1;31mTypeError\u001b[0m: unsupported operand type(s) for +=: 'int' and 'str'"
     ]
    }
   ],
   "source": [
    "menu = '''\n",
    "\n",
    "[d] Depositar\n",
    "[s] Sacar\n",
    "[e] Extrato\n",
    "[q] Sair\n",
    "\n",
    "=> '''\n",
    "\n",
    "saldo = 0\n",
    "limite = 500\n",
    "extrato = 0\n",
    "LIMITE_SAQUES = 3\n",
    "\n",
    "\n",
    "while   True:\n",
    "\n",
    "    opcao = input(menu)\n",
    "\n",
    "    if  opcao == 'd':\n",
    "        valor = float(input('Informe o valor do depósito:'))\n",
    "\n",
    "        if valor > 0:\n",
    "            saldo += valor\n",
    "            extrato += f'Depósito: R$ {valor:.2f}\\n'\n",
    "\n",
    "        else:\n",
    "            print('Operação falhou! O valor informado é inválido.')\n",
    "\n",
    "    elif opcao == 's':\n",
    "        valor = float(input('Informe o valor do saque: '))\n",
    "        \n",
    "        excedeu_saldo = valor > saldo\n",
    "        \n",
    "        excedeu_limite = valor > limite\n",
    "\n",
    "        excedeu_saques = numero_saques >= LIMITE_SAQUES\n",
    "\n",
    "        if excedeu_saldo:\n",
    "            print('Operação falhou! Você não tem saldo suficiente')\n",
    "\n",
    "        elif excedeu_limite:\n",
    "            print('Operação falhou! O valor do saque excede o ')\n",
    "\n",
    "        elif excedeu_saques:\n",
    "            print('Operação falhou! Número máximo de saques excedido')\n",
    "\n",
    "        elif valor > 0:\n",
    "            saldo -= valor\n",
    "            extrato += f'Saque: R$ {valor:.2f}\\n'\n",
    "            numero_saques += 1\n",
    "\n",
    "        else:\n",
    "            print('Operação falhou! O valor informado é inválido.')\n",
    "\n",
    "    elif opcao == 'e':\n",
    "        print('\\n =============EXTRATO=============')\n",
    "        print('Não foram realizadas movimentações.' if not extrato else extrato)\n",
    "        print(f'\\nSaldo: R$ {saldo:.2f}')\n",
    "\n",
    "    elif opcao == 'q':\n",
    "        break\n",
    "\n",
    "    else:\n",
    "        print('Operação inválida, por favor selecione novamente a operação desejada.')\n",
    "\n",
    "\n",
    "\n",
    "    \n",
    "        "
   ]
  }
 ],
 "metadata": {
  "kernelspec": {
   "display_name": "Python 3",
   "language": "python",
   "name": "python3"
  },
  "language_info": {
   "codemirror_mode": {
    "name": "ipython",
    "version": 3
   },
   "file_extension": ".py",
   "mimetype": "text/x-python",
   "name": "python",
   "nbconvert_exporter": "python",
   "pygments_lexer": "ipython3",
   "version": "3.13.1"
  }
 },
 "nbformat": 4,
 "nbformat_minor": 4
}
